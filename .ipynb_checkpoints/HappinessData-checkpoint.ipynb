{
 "cells": [
  {
   "cell_type": "code",
   "execution_count": 4,
   "metadata": {
    "_cell_guid": "b1076dfc-b9ad-4769-8c92-a6c4dae69d19",
    "_uuid": "8f2839f25d086af736a60e9eeb907d3b93b6e0e5"
   },
   "outputs": [
    {
     "name": "stdout",
     "output_type": "stream",
     "text": [
      "['.git', '.ipynb_checkpoints', 'HappinessData.csv', 'HappinessData.ipynb', 'HappinessData.xls', 'README.md']\n"
     ]
    }
   ],
   "source": [
    "# This Python 3 environment comes with many helpful analytics libraries installed\n",
    "# It is defined by the kaggle/python docker image: https://github.com/kaggle/docker-python\n",
    "# For example, here's several helpful packages to load in \n",
    "\n",
    "import numpy as np # linear algebra\n",
    "import pandas as pd # data processing, CSV file I/O (e.g. pd.read_csv)\n",
    "\n",
    "# Input data files are available in the \"../input/\" directory.\n",
    "# For example, running this (by clicking run or pressing Shift+Enter) will list the files in the input directory\n",
    "\n",
    "import os\n",
    "print(os.listdir('.'))\n",
    "\n",
    "# Any results you write to the current directory are saved as output."
   ]
  },
  {
   "cell_type": "markdown",
   "metadata": {
    "_cell_guid": "79c7e3d0-c299-4dcb-8224-4455121ee9b0",
    "_uuid": "d629ff2d2480ee46fbb7e2d37f6b5fab8052498a",
    "collapsed": true
   },
   "source": [
    "<h1> EDA for the Happiness data </h1>\n",
    "\n",
    "This is also an attempt to see if this website (Kaggle) is a good place to collaborate within a small team on a dataset"
   ]
  },
  {
   "cell_type": "markdown",
   "metadata": {
    "_uuid": "7da4c4ba318fb78f46045e290dd3a13743d18017"
   },
   "source": [
    "<h2> Checking the import of the data </h2>\n",
    "\n",
    "This section checks that the data that I uploaded is imported as expected into the dataframe. I am expected that:\n",
    "- There are ten fields: Area (of London), Happiness score, Year, No Religion (%), No Sport, Childhood Obesity, CPP, Suicide Rates, Road Accidents and Crime Rates;\n",
    "- There are 33 areas of London;\n",
    "- The Happiness Scores are...;\n",
    "- The Years are 2011-2016;\n",
    "- No Religion is a percentage;\n",
    "- Childhood obesity is a percentage;\n",
    "- CPP is...;\n",
    "- Suicide rate is ...;\n",
    "- Road Accidents is an integer greater than or equal to zero;\n",
    "- Crime Rates is a percentage.\n"
   ]
  },
  {
   "cell_type": "code",
   "execution_count": 6,
   "metadata": {
    "_uuid": "2506c873df92a154573106ee8a08823687658c8a"
   },
   "outputs": [
    {
     "data": {
      "text/html": [
       "<div>\n",
       "<style scoped>\n",
       "    .dataframe tbody tr th:only-of-type {\n",
       "        vertical-align: middle;\n",
       "    }\n",
       "\n",
       "    .dataframe tbody tr th {\n",
       "        vertical-align: top;\n",
       "    }\n",
       "\n",
       "    .dataframe thead th {\n",
       "        text-align: right;\n",
       "    }\n",
       "</style>\n",
       "<table border=\"1\" class=\"dataframe\">\n",
       "  <thead>\n",
       "    <tr style=\"text-align: right;\">\n",
       "      <th></th>\n",
       "      <th>Area</th>\n",
       "      <th>Happiness</th>\n",
       "      <th>Year</th>\n",
       "      <th>No Religion (%)</th>\n",
       "      <th>No Sport</th>\n",
       "      <th>Childhood Obesity</th>\n",
       "      <th>CPP</th>\n",
       "      <th>Suicide Rates</th>\n",
       "      <th>Road Accidents</th>\n",
       "      <th>Crime Rates</th>\n",
       "    </tr>\n",
       "  </thead>\n",
       "  <tbody>\n",
       "    <tr>\n",
       "      <th>0</th>\n",
       "      <td>City of London</td>\n",
       "      <td>x</td>\n",
       "      <td>2011</td>\n",
       "      <td>-</td>\n",
       "      <td>59.40%</td>\n",
       "      <td>NaN</td>\n",
       "      <td>21</td>\n",
       "      <td>3</td>\n",
       "      <td>NaN</td>\n",
       "      <td>NaN</td>\n",
       "    </tr>\n",
       "    <tr>\n",
       "      <th>1</th>\n",
       "      <td>Barking and Dagenham</td>\n",
       "      <td>6.91</td>\n",
       "      <td>2011</td>\n",
       "      <td>19.2</td>\n",
       "      <td>61.10%</td>\n",
       "      <td>26.9</td>\n",
       "      <td>55</td>\n",
       "      <td>10</td>\n",
       "      <td>NaN</td>\n",
       "      <td>100.7</td>\n",
       "    </tr>\n",
       "    <tr>\n",
       "      <th>2</th>\n",
       "      <td>Barnet</td>\n",
       "      <td>7.26</td>\n",
       "      <td>2011</td>\n",
       "      <td>20.0</td>\n",
       "      <td>49.20%</td>\n",
       "      <td>19.2</td>\n",
       "      <td>27</td>\n",
       "      <td>22</td>\n",
       "      <td>NaN</td>\n",
       "      <td>73.5</td>\n",
       "    </tr>\n",
       "    <tr>\n",
       "      <th>3</th>\n",
       "      <td>Bexley</td>\n",
       "      <td>7.22</td>\n",
       "      <td>2011</td>\n",
       "      <td>25.0</td>\n",
       "      <td>51.00%</td>\n",
       "      <td>22.2</td>\n",
       "      <td>16</td>\n",
       "      <td>16</td>\n",
       "      <td>NaN</td>\n",
       "      <td>52.3</td>\n",
       "    </tr>\n",
       "    <tr>\n",
       "      <th>4</th>\n",
       "      <td>Brent</td>\n",
       "      <td>7.07</td>\n",
       "      <td>2011</td>\n",
       "      <td>11.7</td>\n",
       "      <td>61.20%</td>\n",
       "      <td>22.6</td>\n",
       "      <td>37</td>\n",
       "      <td>20</td>\n",
       "      <td>NaN</td>\n",
       "      <td>101.2</td>\n",
       "    </tr>\n",
       "  </tbody>\n",
       "</table>\n",
       "</div>"
      ],
      "text/plain": [
       "                   Area Happiness  Year No Religion (%) No Sport  \\\n",
       "0        City of London         x  2011               -   59.40%   \n",
       "1  Barking and Dagenham      6.91  2011            19.2   61.10%   \n",
       "2                Barnet      7.26  2011            20.0   49.20%   \n",
       "3                Bexley      7.22  2011            25.0   51.00%   \n",
       "4                 Brent      7.07  2011            11.7   61.20%   \n",
       "\n",
       "   Childhood Obesity CPP  Suicide Rates  Road Accidents  Crime Rates  \n",
       "0                NaN  21              3             NaN          NaN  \n",
       "1               26.9  55             10             NaN        100.7  \n",
       "2               19.2  27             22             NaN         73.5  \n",
       "3               22.2  16             16             NaN         52.3  \n",
       "4               22.6  37             20             NaN        101.2  "
      ]
     },
     "execution_count": 6,
     "metadata": {},
     "output_type": "execute_result"
    }
   ],
   "source": [
    "#Load data\n",
    "df_happy = pd.read_csv(\"../input/HappinessData.csv\")\n",
    "\n",
    "#look at first few rows\n",
    "df_happy.head()"
   ]
  },
  {
   "cell_type": "code",
   "execution_count": 9,
   "metadata": {
    "_uuid": "12cb0f230a489756dcdb3f7db0eb0e4e4c692384"
   },
   "outputs": [
    {
     "name": "stdout",
     "output_type": "stream",
     "text": [
      "<class 'pandas.core.frame.DataFrame'>\n",
      "RangeIndex: 198 entries, 0 to 197\n",
      "Data columns (total 10 columns):\n",
      "Area                 198 non-null object\n",
      "Happiness            198 non-null object\n",
      "Year                 198 non-null int64\n",
      "No Religion (%)      198 non-null object\n",
      "No Sport             198 non-null object\n",
      "Childhood Obesity    192 non-null float64\n",
      "CPP                  198 non-null object\n",
      "Suicide Rates        198 non-null int64\n",
      "Road Accidents       66 non-null float64\n",
      "Crime Rates          192 non-null float64\n",
      "dtypes: float64(3), int64(2), object(5)\n",
      "memory usage: 15.5+ KB\n"
     ]
    },
    {
     "data": {
      "text/plain": [
       "Area                  33\n",
       "Happiness             71\n",
       "Year                   6\n",
       "No Religion (%)      150\n",
       "No Sport             142\n",
       "Childhood Obesity     99\n",
       "CPP                   49\n",
       "Suicide Rates         36\n",
       "Road Accidents        30\n",
       "Crime Rates          174\n",
       "dtype: int64"
      ]
     },
     "execution_count": 9,
     "metadata": {},
     "output_type": "execute_result"
    }
   ],
   "source": [
    "#look at any information that needs to be cleaned\n",
    "df_happy.info()\n",
    "df_happy.nunique()"
   ]
  },
  {
   "cell_type": "code",
   "execution_count": null,
   "metadata": {
    "_uuid": "bcfbaa658364e7ce307f4aed583a70d81e9c1d82",
    "collapsed": true
   },
   "outputs": [],
   "source": []
  }
 ],
 "metadata": {
  "kernelspec": {
   "display_name": "Python 3",
   "language": "python",
   "name": "python3"
  },
  "language_info": {
   "codemirror_mode": {
    "name": "ipython",
    "version": 3
   },
   "file_extension": ".py",
   "mimetype": "text/x-python",
   "name": "python",
   "nbconvert_exporter": "python",
   "pygments_lexer": "ipython3",
   "version": "3.6.3"
  }
 },
 "nbformat": 4,
 "nbformat_minor": 1
}
